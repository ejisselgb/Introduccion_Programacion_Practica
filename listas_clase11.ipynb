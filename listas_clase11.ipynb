{
  "nbformat": 4,
  "nbformat_minor": 0,
  "metadata": {
    "colab": {
      "name": "listas_clase11",
      "provenance": [],
      "authorship_tag": "ABX9TyM1/k+cc3ifCPQVsg0LLk+/"
    },
    "kernelspec": {
      "name": "python3",
      "display_name": "Python 3"
    },
    "language_info": {
      "name": "python"
    }
  },
  "cells": [
    {
      "cell_type": "code",
      "execution_count": null,
      "metadata": {
        "id": "g-lDdEL1f7La"
      },
      "outputs": [],
      "source": [
        "#Ejercicio listas\n",
        "valoresnumericos=[0,2,4,6,8,10,12,14,16,18]\n",
        "valorescombinados=[19,\"biologia\",1.59,\"tenis\",2003,\"veggie\",29,\"Ana\",24,\"Jesus\"]\n",
        "valorestexto=[\"mariana\",\"julian\",\"sofia\",\"alejandra\",\"sara\",\"valeria\",\"felipe\",\"susana\",\"elena\",\"majo\"]\n",
        "\n",
        "valoresnumericos[0]=20\n",
        "valorescombinados[0]=20\n",
        "valorestexto[0]=20\n",
        "\n",
        "valoresnumericos[5]=\"Hola mundo\"\n",
        "valorescombinados[5]=\"Hola mundo\"\n",
        "valorestexto[5]=\"Hola mundo\"\n",
        "\n",
        "print (valoresnumericos[9])\n",
        "print (valorescombinados[9])\n",
        "print (valorestexto[9])\n",
        "   "
      ]
    }
  ]
}