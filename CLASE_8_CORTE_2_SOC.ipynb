{
  "nbformat": 4,
  "nbformat_minor": 0,
  "metadata": {
    "colab": {
      "name": "CLASE 8 CORTE 2 SOC",
      "provenance": []
    },
    "kernelspec": {
      "name": "python3",
      "display_name": "Python 3"
    },
    "language_info": {
      "name": "python"
    }
  },
  "cells": [
    {
      "cell_type": "code",
      "execution_count": null,
      "metadata": {
        "id": "BCvLP6iJROVM"
      },
      "outputs": [],
      "source": [
        "#ejercicio 1\n",
        "def sumrest1 (a,b,c,d):\n",
        "  print(\"inserte un número para sumar\")\n",
        "  a= int(input())\n",
        "\n",
        "  print(\"inserte otro número para sumar\")\n",
        "  b= int(input()) \n",
        "\n",
        "  sum=a+b\n",
        "  print(\"la suma de los dos numeros es:\"+ str(sum))\n",
        "  \n",
        "\n",
        "  print(\"inserte un número para restar\")\n",
        "  c= int(input()) \n",
        "\n",
        "  print(\"inserte un número para restar\")\n",
        "  d= int(input())\n",
        "\n",
        "  rest=c-d\n",
        "  print(\"la resta de los dos numeros es:\"+ str(rest))\n",
        "  \n",
        "\n",
        "\n",
        "  multip= sum*rest\n",
        "  print(\"El resultado de la multiplicación entre los dos resultados es:\"+ str(sum*rest))\n",
        "\n",
        "  divi= sum/rest\n",
        "  print(\"El resultado de la división entre los dos resultados es:\"+ str(sum/rest))\n",
        "\n",
        "sumrest1 (a,b,c,d)"
      ]
    },
    {
      "cell_type": "code",
      "source": [
        "#ejercicio 2\n",
        "def notas (n1,n2,n3,n4,n5,n6,n7,n8,n9):\n",
        "  corte1= (n1+n2+n3/3)*0.2\n",
        "  print(\"La nota del corte 1 20% es:\" + str (corte1)) \n",
        "  corte2= (n4+n5+n6/3)*0.2\n",
        "  print(\"La nota del corte 2 20% es:\" + str (corte2)) \n",
        "  corte3= (n7+n8+n9/3)*0.6\n",
        "  print(\"La nota del corte 3 60% es:\" + str (corte3)) \n",
        "\n",
        "  sumaf= ((corte1+corte2+corte3)/3) #revisar\n",
        "  print(\"La nota final es:\" + str (sumaf))\n",
        "\n",
        "print(\"Notas corte 1:\")\n",
        "print(\"ingrese nota 1\")\n",
        "n1= float (input())\n",
        "print(\"ingrese nota 2\")\n",
        "n2= float (input())\n",
        "print(\"ingrese nota 3\")\n",
        "n3= float (input())\n",
        "\n",
        "print(\"Notas corte 2:\")\n",
        "print(\"ingrese nota 4\")\n",
        "n4= float (input())\n",
        "print(\"ingrese nota 5\")\n",
        "n5= float (input())\n",
        "print(\"ingrese nota 5\")\n",
        "n6= float (input())\n",
        "\n",
        "print(\"Notas corte 3:\")\n",
        "print(\"ingrese nota 7\")\n",
        "n7= float (input())\n",
        "print(\"ingrese nota 8\")\n",
        "n8= float (input())\n",
        "print(\"ingrese nota 9\")\n",
        "n9= float (input())\n",
        "\n",
        "notas(n1,n2,n3,n4,n5,n6,n7,n8,n9)"
      ],
      "metadata": {
        "id": "i8DxPIJRRXrV"
      },
      "execution_count": null,
      "outputs": []
    },
    {
      "cell_type": "code",
      "source": [
        "#ejercicio 3 calcular iva\n",
        "\n",
        "print(\"ingrese precio del producto 1\")\n",
        "p1= float(input())\n",
        "IVA1= (p1*1.19)\n",
        "print(\"el IVA de este producto es: \" + str(IVA1))\n",
        "\n",
        "print(\"ingrese precio del producto 2\")\n",
        "p2= float(input())\n",
        "IVA2= (p2*1.19)\n",
        "print(\"el IVA de este producto es: \" + str(IVA2))\n",
        "\n",
        "print(\"ingrese precio del producto 3\")\n",
        "p3= float(input())\n",
        "IVA3= (p3*1.19)\n",
        "print(\"el IVA de este producto es: \" + str(IVA3))\n",
        "\n",
        "\n",
        "def suma1 (p1,p2,p3):\n",
        "  total= IVA1+IVA2+IVA3\n",
        "  print(\"su total es:\"+ str(total))\n",
        "\n",
        "suma1 (p1,p2,p3)\n"
      ],
      "metadata": {
        "id": "UDSie8v6RYm8"
      },
      "execution_count": null,
      "outputs": []
    }
  ]
}