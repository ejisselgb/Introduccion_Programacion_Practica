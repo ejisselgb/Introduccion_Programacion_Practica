{
  "nbformat": 4,
  "nbformat_minor": 0,
  "metadata": {
    "colab": {
      "name": "funciones_clase11",
      "provenance": [],
      "authorship_tag": "ABX9TyNOo5X8u/IIY4C9FhZ3sHGg"
    },
    "kernelspec": {
      "name": "python3",
      "display_name": "Python 3"
    },
    "language_info": {
      "name": "python"
    }
  },
  "cells": [
    {
      "cell_type": "code",
      "execution_count": null,
      "metadata": {
        "id": "g-lDdEL1f7La"
      },
      "outputs": [],
      "source": [
        "#modularizar ejercicio clase 10\n",
        "opcion=str(input(\"Ingresa la opcion A,B,C o D\"))\n",
        "def multiplicacion():\n",
        "      num=int(input(\"Ingresa un número\"))\n",
        "      num=num*(num+1)\n",
        "      print(\"El resultado es \",num)\n",
        "def division():\n",
        "        num=int(input(\"Ingresa un número\"))\n",
        "        num=num/(num+1)\n",
        "        print(\"El resultado es \", num)\n",
        "def suma():\n",
        "    num=int(input(\"Ingresa un número\"))\n",
        "    num=num+(num+1)\n",
        "    print(\"El resultado es \", num)\n",
        "def resta():\n",
        "        num=int(input(\"Ingresa un número\"))\n",
        "        num=num-(num+1)\n",
        "        print(\"El resultado es \", num)\n",
        "x=0\n",
        "while x<5:\n",
        "    if opcion==\"A\":\n",
        "        multiplicacion()\n",
        "    elif opcion==\"B\":\n",
        "        division()\n",
        "    elif opcion==\"C\":\n",
        "        suma()\n",
        "    elif opcion==\"D\":\n",
        "        resta()\n",
        "    x=x+1"
      ]
    }
  ]
}